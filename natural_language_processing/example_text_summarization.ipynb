{
 "cells": [
  {
   "cell_type": "markdown",
   "metadata": {},
   "source": [
    "# Natural Language Processing - Text Summarization example"
   ]
  },
  {
   "cell_type": "markdown",
   "metadata": {},
   "source": [
    "###### Links: [CNN DailyMail (HuggingFace)](https://huggingface.co/datasets/cnn_dailymail)  |  [Article (TowardsDataScience)](https://towardsdatascience.com/text-summarization-with-nlp-textrank-vs-seq2seq-vs-bart-474943efeb09)"
   ]
  },
  {
   "cell_type": "markdown",
   "metadata": {},
   "source": [
    "### 0 - Setup"
   ]
  },
  {
   "cell_type": "markdown",
   "metadata": {},
   "source": [
    "###### Import pckgs"
   ]
  },
  {
   "cell_type": "code",
   "execution_count": 2,
   "metadata": {},
   "outputs": [],
   "source": [
    "import warnings\n",
    "warnings.filterwarnings(\"ignore\")\n",
    "from nlp_utils import *"
   ]
  },
  {
   "cell_type": "markdown",
   "metadata": {},
   "source": [
    "###### Import data"
   ]
  },
  {
   "cell_type": "code",
   "execution_count": 3,
   "metadata": {},
   "outputs": [],
   "source": [
    "#import datasets\n",
    "#dataset = datasets.load_dataset(\"cnn_dailymail\", '3.0.0')\n",
    "\n",
    "#lst_dics = [dic for dic in dataset[\"train\"]]\n",
    "#dtf = pd.DataFrame(lst_dics).rename(columns={\"article\":\"text\", \"highlights\":\"y\"})[[\"text\",\"y\"]].head(20000)\n",
    "#dtf.to_csv(\"data_summary.csv\", index=False)\n",
    "#dtf.head()"
   ]
  },
  {
   "cell_type": "code",
   "execution_count": 4,
   "metadata": {},
   "outputs": [
    {
     "data": {
      "text/html": [
       "<div>\n",
       "<style scoped>\n",
       "    .dataframe tbody tr th:only-of-type {\n",
       "        vertical-align: middle;\n",
       "    }\n",
       "\n",
       "    .dataframe tbody tr th {\n",
       "        vertical-align: top;\n",
       "    }\n",
       "\n",
       "    .dataframe thead th {\n",
       "        text-align: right;\n",
       "    }\n",
       "</style>\n",
       "<table border=\"1\" class=\"dataframe\">\n",
       "  <thead>\n",
       "    <tr style=\"text-align: right;\">\n",
       "      <th></th>\n",
       "      <th>Unnamed: 0</th>\n",
       "      <th>text</th>\n",
       "      <th>y</th>\n",
       "    </tr>\n",
       "  </thead>\n",
       "  <tbody>\n",
       "    <tr>\n",
       "      <th>0</th>\n",
       "      <td>0</td>\n",
       "      <td>It's official: U.S. President Barack Obama wan...</td>\n",
       "      <td>Syrian official: Obama climbed to the top of t...</td>\n",
       "    </tr>\n",
       "    <tr>\n",
       "      <th>1</th>\n",
       "      <td>1</td>\n",
       "      <td>(CNN) -- Usain Bolt rounded off the world cham...</td>\n",
       "      <td>Usain Bolt wins third gold of world championsh...</td>\n",
       "    </tr>\n",
       "    <tr>\n",
       "      <th>2</th>\n",
       "      <td>2</td>\n",
       "      <td>Kansas City, Missouri (CNN) -- The General Ser...</td>\n",
       "      <td>The employee in agency's Kansas City office is...</td>\n",
       "    </tr>\n",
       "    <tr>\n",
       "      <th>3</th>\n",
       "      <td>3</td>\n",
       "      <td>Los Angeles (CNN) -- A medical doctor in Vanco...</td>\n",
       "      <td>NEW: A Canadian doctor says she was part of a ...</td>\n",
       "    </tr>\n",
       "    <tr>\n",
       "      <th>4</th>\n",
       "      <td>4</td>\n",
       "      <td>(CNN) -- Police arrested another teen Thursday...</td>\n",
       "      <td>Another arrest made in gang rape outside Calif...</td>\n",
       "    </tr>\n",
       "  </tbody>\n",
       "</table>\n",
       "</div>"
      ],
      "text/plain": [
       "   Unnamed: 0                                               text  \\\n",
       "0           0  It's official: U.S. President Barack Obama wan...   \n",
       "1           1  (CNN) -- Usain Bolt rounded off the world cham...   \n",
       "2           2  Kansas City, Missouri (CNN) -- The General Ser...   \n",
       "3           3  Los Angeles (CNN) -- A medical doctor in Vanco...   \n",
       "4           4  (CNN) -- Police arrested another teen Thursday...   \n",
       "\n",
       "                                                   y  \n",
       "0  Syrian official: Obama climbed to the top of t...  \n",
       "1  Usain Bolt wins third gold of world championsh...  \n",
       "2  The employee in agency's Kansas City office is...  \n",
       "3  NEW: A Canadian doctor says she was part of a ...  \n",
       "4  Another arrest made in gang rape outside Calif...  "
      ]
     },
     "execution_count": 4,
     "metadata": {},
     "output_type": "execute_result"
    }
   ],
   "source": [
    "dtf = pd.read_csv(\"data_summary.csv\")\n",
    "dtf.head()"
   ]
  },
  {
   "cell_type": "code",
   "execution_count": 5,
   "metadata": {},
   "outputs": [
    {
     "name": "stdout",
     "output_type": "stream",
     "text": [
      "<class 'pandas.core.frame.DataFrame'>\n",
      "RangeIndex: 20000 entries, 0 to 19999\n",
      "Data columns (total 3 columns):\n",
      " #   Column      Non-Null Count  Dtype \n",
      "---  ------      --------------  ----- \n",
      " 0   Unnamed: 0  20000 non-null  int64 \n",
      " 1   text        20000 non-null  object\n",
      " 2   y           20000 non-null  object\n",
      "dtypes: int64(1), object(2)\n",
      "memory usage: 468.9+ KB\n"
     ]
    }
   ],
   "source": [
    "dtf.info()"
   ]
  },
  {
   "cell_type": "code",
   "execution_count": 6,
   "metadata": {},
   "outputs": [
    {
     "name": "stdout",
     "output_type": "stream",
     "text": [
      "--- Full text ---\n",
      "(CNN) -- Usain Bolt rounded off the world championships Sunday by claiming his third gold in Moscow as he anchored Jamaica to victory in the men's 4x100m relay. The fastest man in the world charged clear of United States rival Justin Gatlin as the Jamaican quartet of Nesta Carter, Kemar Bailey-Cole, Nickel Ashmeade and Bolt won in 37.36 seconds. The U.S finished second in 37.56 seconds with Canada taking the bronze after Britain were disqualified for a faulty handover. The 26-year-old Bolt has now collected eight gold medals at world championships, equaling the record held by American trio Carl Lewis, Michael Johnson and Allyson Felix, not to mention the small matter of six Olympic titles. The relay triumph followed individual successes in the 100 and 200 meters in the Russian capital. \"I'm proud of myself and I'll continue to work to dominate for as long as possible,\" Bolt said, having previously expressed his intention to carry on until the 2016 Rio Olympics. Victory was never seriously in doubt once he got the baton safely in hand from Ashmeade, while Gatlin and the United States third leg runner Rakieem Salaam had problems. Gatlin strayed out of his lane as he struggled to get full control of their baton and was never able to get on terms with Bolt. Earlier, Jamaica's women underlined their dominance in the sprint events by winning the 4x100m relay gold, anchored by Shelly-Ann Fraser-Pryce, who like Bolt was completing a triple. Their quartet recorded a championship record of 41.29 seconds, well clear of France, who crossed the line in second place in 42.73 seconds. Defending champions, the United States, were initially back in the bronze medal position after losing time on the second handover between Alexandria Anderson and English Gardner, but promoted to silver when France were subsequently disqualified for an illegal handover. The British quartet, who were initially fourth, were promoted to the bronze which eluded their men's team. Fraser-Pryce, like Bolt aged 26, became the first woman to achieve three golds in the 100-200 and the relay. In other final action on the last day of the championships, France's Teddy Tamgho became the third man to leap over 18m in the triple jump, exceeding the mark by four centimeters to take gold. Germany's Christina Obergfoll finally took gold at global level in the women's javelin after five previous silvers, while Kenya's Asbel Kiprop easily won a tactical men's 1500m final. Kiprop's compatriot Eunice Jepkoech Sum was a surprise winner of the women's 800m. Bolt's final dash for golden glory brought the eight-day championship to a rousing finale, but while the hosts topped the medal table from the United States there was criticism of the poor attendances in the Luzhniki Stadium. There was further concern when their pole vault gold medalist Yelena Isinbayeva made controversial remarks in support of Russia's new laws, which make \"the propagandizing of non-traditional sexual relations among minors\" a criminal offense. She later attempted to clarify her comments, but there were renewed calls by gay rights groups for a boycott of the 2014 Winter Games in Sochi, the next major sports event in Russia.\n",
      " \n",
      "--- Summary ---\n",
      "Usain Bolt wins third gold of world championship .\n",
      "Anchors Jamaica to 4x100m relay victory .\n",
      "Eighth gold at the championships for Bolt .\n",
      "Jamaica double up in women's 4x100m relay .\n"
     ]
    }
   ],
   "source": [
    "# check\n",
    "i = 1\n",
    "print(\"--- Full text ---\")\n",
    "print(dtf[\"text\"][i])\n",
    "print(\" \")\n",
    "print(\"--- Summary ---\")\n",
    "print(dtf[\"y\"][i])"
   ]
  },
  {
   "cell_type": "markdown",
   "metadata": {},
   "source": [
    "### 1 - Text Analysis"
   ]
  },
  {
   "cell_type": "markdown",
   "metadata": {},
   "source": [
    "- Text cleaning\n",
    "- Word frequency\n",
    "- Length analysis"
   ]
  },
  {
   "cell_type": "markdown",
   "metadata": {},
   "source": [
    "###### Text cleaning"
   ]
  },
  {
   "cell_type": "code",
   "execution_count": 7,
   "metadata": {},
   "outputs": [],
   "source": [
    "lst_stopwords = create_stopwords()\n",
    "lst_stopwords = lst_stopwords + [\"cnn\",\"say\",\"said\",\"new\",\"wa\",\"ha\"]"
   ]
  },
  {
   "cell_type": "code",
   "execution_count": 8,
   "metadata": {},
   "outputs": [
    {
     "data": {
      "text/html": [
       "<div>\n",
       "<style scoped>\n",
       "    .dataframe tbody tr th:only-of-type {\n",
       "        vertical-align: middle;\n",
       "    }\n",
       "\n",
       "    .dataframe tbody tr th {\n",
       "        vertical-align: top;\n",
       "    }\n",
       "\n",
       "    .dataframe thead th {\n",
       "        text-align: right;\n",
       "    }\n",
       "</style>\n",
       "<table border=\"1\" class=\"dataframe\">\n",
       "  <thead>\n",
       "    <tr style=\"text-align: right;\">\n",
       "      <th></th>\n",
       "      <th>Unnamed: 0</th>\n",
       "      <th>text</th>\n",
       "      <th>y</th>\n",
       "      <th>text_clean</th>\n",
       "      <th>y_clean</th>\n",
       "    </tr>\n",
       "  </thead>\n",
       "  <tbody>\n",
       "    <tr>\n",
       "      <th>0</th>\n",
       "      <td>0</td>\n",
       "      <td>It's official: U.S. President Barack Obama wan...</td>\n",
       "      <td>Syrian official: Obama climbed to the top of t...</td>\n",
       "      <td>official president barack obama want lawmaker ...</td>\n",
       "      <td>syrian official obama climbed top tree doe kno...</td>\n",
       "    </tr>\n",
       "    <tr>\n",
       "      <th>1</th>\n",
       "      <td>1</td>\n",
       "      <td>(CNN) -- Usain Bolt rounded off the world cham...</td>\n",
       "      <td>Usain Bolt wins third gold of world championsh...</td>\n",
       "      <td>usain bolt rounded world championship sunday c...</td>\n",
       "      <td>usain bolt win third gold world championship a...</td>\n",
       "    </tr>\n",
       "    <tr>\n",
       "      <th>2</th>\n",
       "      <td>2</td>\n",
       "      <td>Kansas City, Missouri (CNN) -- The General Ser...</td>\n",
       "      <td>The employee in agency's Kansas City office is...</td>\n",
       "      <td>kansa city missouri general service administra...</td>\n",
       "      <td>employee agency kansa city office among hundre...</td>\n",
       "    </tr>\n",
       "    <tr>\n",
       "      <th>3</th>\n",
       "      <td>3</td>\n",
       "      <td>Los Angeles (CNN) -- A medical doctor in Vanco...</td>\n",
       "      <td>NEW: A Canadian doctor says she was part of a ...</td>\n",
       "      <td>los angeles medical doctor vancouver british c...</td>\n",
       "      <td>canadian doctor part team examining harry burk...</td>\n",
       "    </tr>\n",
       "    <tr>\n",
       "      <th>4</th>\n",
       "      <td>4</td>\n",
       "      <td>(CNN) -- Police arrested another teen Thursday...</td>\n",
       "      <td>Another arrest made in gang rape outside Calif...</td>\n",
       "      <td>police arrested another teen thursday sixth su...</td>\n",
       "      <td>another arrest made gang rape outside californ...</td>\n",
       "    </tr>\n",
       "  </tbody>\n",
       "</table>\n",
       "</div>"
      ],
      "text/plain": [
       "   Unnamed: 0                                               text  \\\n",
       "0           0  It's official: U.S. President Barack Obama wan...   \n",
       "1           1  (CNN) -- Usain Bolt rounded off the world cham...   \n",
       "2           2  Kansas City, Missouri (CNN) -- The General Ser...   \n",
       "3           3  Los Angeles (CNN) -- A medical doctor in Vanco...   \n",
       "4           4  (CNN) -- Police arrested another teen Thursday...   \n",
       "\n",
       "                                                   y  \\\n",
       "0  Syrian official: Obama climbed to the top of t...   \n",
       "1  Usain Bolt wins third gold of world championsh...   \n",
       "2  The employee in agency's Kansas City office is...   \n",
       "3  NEW: A Canadian doctor says she was part of a ...   \n",
       "4  Another arrest made in gang rape outside Calif...   \n",
       "\n",
       "                                          text_clean  \\\n",
       "0  official president barack obama want lawmaker ...   \n",
       "1  usain bolt rounded world championship sunday c...   \n",
       "2  kansa city missouri general service administra...   \n",
       "3  los angeles medical doctor vancouver british c...   \n",
       "4  police arrested another teen thursday sixth su...   \n",
       "\n",
       "                                             y_clean  \n",
       "0  syrian official obama climbed top tree doe kno...  \n",
       "1  usain bolt win third gold world championship a...  \n",
       "2  employee agency kansa city office among hundre...  \n",
       "3  canadian doctor part team examining harry burk...  \n",
       "4  another arrest made gang rape outside californ...  "
      ]
     },
     "execution_count": 8,
     "metadata": {},
     "output_type": "execute_result"
    }
   ],
   "source": [
    "dtf = add_preprocessed_text(dtf, column=\"text\", \n",
    "                            punkt=True, lower=True, slang=True, lst_stopwords=lst_stopwords, lemm=True)\n",
    "dtf = add_preprocessed_text(dtf, column=\"y\", \n",
    "                            punkt=True, lower=True, slang=True, lst_stopwords=lst_stopwords, lemm=True)\n",
    "dtf.head()"
   ]
  },
  {
   "cell_type": "code",
   "execution_count": 9,
   "metadata": {},
   "outputs": [
    {
     "name": "stdout",
     "output_type": "stream",
     "text": [
      "--- Full text ---\n",
      "usain bolt rounded world championship sunday claiming third gold moscow anchored jamaica victory men 4x100m relay fastest man world charged clear united state rival justin gatlin jamaican quartet nesta carter kemar baileycole nickel ashmeade bolt 3736 second finished second 3756 second canada taking bronze britain disqualified faulty handover 26yearold bolt collected eight gold medal world championship equaling record held american trio carl lewis michael johnson allyson felix mention small matter six olympic title relay triumph followed individual success 100 200 meter russian capital I proud ill continue work dominate long possible bolt previously expressed intention carry 2016 rio olympics victory never seriously doubt got baton safely hand ashmeade gatlin united state third leg runner rakieem salaam problem gatlin strayed lane struggled get full control baton never able get term bolt earlier jamaica woman underlined dominance sprint event winning 4x100m relay gold anchored shellyann fraserpryce like bolt completing triple quartet recorded championship record 4129 second well clear france crossed line second place 4273 second defending champion united state initially back bronze medal position losing time second handover alexandria anderson english gardner promoted silver france subsequently disqualified illegal handover british quartet initially fourth promoted bronze eluded men team fraserpryce like bolt aged 26 became first woman achieve three gold 100200 relay final action last day championship france teddy tamgho became third man leap 18m triple jump exceeding mark four centimeter take gold germany christina obergfoll finally took gold global level woman javelin five previous silver kenya asbel kiprop easily tactical men 1500m final kiprops compatriot eunice jepkoech sum surprise winner woman 800m bolt final dash golden glory brought eightday championship rousing finale host topped medal table united state criticism poor attendance luzhniki stadium concern pole vault gold medalist yelena isinbayeva made controversial remark support russia law make propagandizing nontraditional sexual relation among minor criminal offense later attempted clarify comment renewed call gay right group boycott 2014 winter game sochi next major sport event russia\n",
      " \n",
      "--- Summary ---\n",
      "usain bolt win third gold world championship anchor jamaica 4x100m relay victory eighth gold championship bolt jamaica double woman 4x100m relay\n"
     ]
    }
   ],
   "source": [
    "# check\n",
    "print(\"--- Full text ---\")\n",
    "print(dtf[\"text_clean\"][i])\n",
    "print(\" \")\n",
    "print(\"--- Summary ---\")\n",
    "print(dtf[\"y_clean\"][i])"
   ]
  },
  {
   "cell_type": "markdown",
   "metadata": {},
   "source": [
    "###### Word frequency"
   ]
  },
  {
   "cell_type": "code",
   "execution_count": 10,
   "metadata": {},
   "outputs": [
    {
     "data": {
      "image/png": "[encoded data removed]",
      "text/plain": [
       "<Figure size 720x504 with 1 Axes>"
      ]
     },
     "metadata": {
      "needs_background": "light"
     },
     "output_type": "display_data"
    }
   ],
   "source": [
    "# Find most common words in text\n",
    "dtf_freq = word_freq(corpus=dtf[\"text_clean\"], ngrams=[1], top=30, figsize=(10,7))"
   ]
  },
  {
   "cell_type": "code",
   "execution_count": 11,
   "metadata": {},
   "outputs": [
    {
     "data": {
      "text/plain": [
       "43002"
      ]
     },
     "execution_count": 11,
     "metadata": {},
     "output_type": "execute_result"
    }
   ],
   "source": [
    "thres = 5\n",
    "X_top_words = len(dtf_freq[dtf_freq[\"freq\"]>thres])\n",
    "X_top_words"
   ]
  },
  {
   "cell_type": "code",
   "execution_count": 12,
   "metadata": {},
   "outputs": [
    {
     "data": {
      "image/png": "[encoded data removed]",
      "text/plain": [
       "<Figure size 720x504 with 1 Axes>"
      ]
     },
     "metadata": {
      "needs_background": "light"
     },
     "output_type": "display_data"
    }
   ],
   "source": [
    "# Find most common words in summaries\n",
    "dtf_freq = word_freq(corpus=dtf[\"y_clean\"], ngrams=[1], top=30, figsize=(10,7))"
   ]
  },
  {
   "cell_type": "code",
   "execution_count": 13,
   "metadata": {},
   "outputs": [
    {
     "data": {
      "text/plain": [
       "10246"
      ]
     },
     "execution_count": 13,
     "metadata": {},
     "output_type": "execute_result"
    }
   ],
   "source": [
    "thres = 5\n",
    "y_top_words = len(dtf_freq[dtf_freq[\"freq\"]>thres])\n",
    "y_top_words"
   ]
  },
  {
   "cell_type": "markdown",
   "metadata": {},
   "source": [
    "###### Length analysis"
   ]
  },
  {
   "cell_type": "code",
   "execution_count": 14,
   "metadata": {},
   "outputs": [
    {
     "name": "stdout",
     "output_type": "stream",
     "text": [
      "                            min         mean          max\n",
      "char_count           103.000000  2260.440850  10038.00000\n",
      "word_count            19.000000   364.190450   1309.00000\n",
      "sentence_count         1.000000     1.000000      1.00000\n",
      "avg_word_length        3.992945     6.204663     35.34507\n",
      "avg_sentence_lenght   19.000000   364.190450   1309.00000\n"
     ]
    }
   ],
   "source": [
    "# Texts\n",
    "X = add_text_length(dtf, \"text_clean\")"
   ]
  },
  {
   "cell_type": "code",
   "execution_count": 15,
   "metadata": {},
   "outputs": [
    {
     "data": {
      "image/png": "[encoded data removed]",
      "text/plain": [
       "<Figure size 720x216 with 1 Axes>"
      ]
     },
     "metadata": {
      "needs_background": "light"
     },
     "output_type": "display_data"
    }
   ],
   "source": [
    "plot_distributions(X, x=\"word_count\", figsize=(10,3))"
   ]
  },
  {
   "cell_type": "code",
   "execution_count": 16,
   "metadata": {},
   "outputs": [],
   "source": [
    "X_len = 400"
   ]
  },
  {
   "cell_type": "code",
   "execution_count": 17,
   "metadata": {},
   "outputs": [
    {
     "name": "stdout",
     "output_type": "stream",
     "text": [
      "                       min        mean    max\n",
      "char_count           35.00  164.701550  319.0\n",
      "word_count            4.00   27.021300   50.0\n",
      "sentence_count        1.00    1.000000    1.0\n",
      "avg_word_length       4.15    6.115849   10.0\n",
      "avg_sentence_lenght   4.00   27.021300   50.0\n"
     ]
    }
   ],
   "source": [
    "# Summaries\n",
    "y = add_text_length(dtf, \"y_clean\")"
   ]
  },
  {
   "cell_type": "code",
   "execution_count": 18,
   "metadata": {},
   "outputs": [
    {
     "data": {
      "image/png": "[encoded data removed]",
      "text/plain": [
       "<Figure size 720x216 with 1 Axes>"
      ]
     },
     "metadata": {
      "needs_background": "light"
     },
     "output_type": "display_data"
    }
   ],
   "source": [
    "plot_distributions(y, x=\"word_count\", max_cat=1, figsize=(10,3))"
   ]
  },
  {
   "cell_type": "code",
   "execution_count": 19,
   "metadata": {},
   "outputs": [],
   "source": [
    "y_len = 40"
   ]
  },
  {
   "cell_type": "markdown",
   "metadata": {},
   "source": [
    "###### Summary"
   ]
  },
  {
   "cell_type": "code",
   "execution_count": 20,
   "metadata": {},
   "outputs": [
    {
     "data": {
      "text/html": [
       "<div>\n",
       "<style scoped>\n",
       "    .dataframe tbody tr th:only-of-type {\n",
       "        vertical-align: middle;\n",
       "    }\n",
       "\n",
       "    .dataframe tbody tr th {\n",
       "        vertical-align: top;\n",
       "    }\n",
       "\n",
       "    .dataframe thead th {\n",
       "        text-align: right;\n",
       "    }\n",
       "</style>\n",
       "<table border=\"1\" class=\"dataframe\">\n",
       "  <thead>\n",
       "    <tr style=\"text-align: right;\">\n",
       "      <th></th>\n",
       "      <th>text</th>\n",
       "      <th>text_clean</th>\n",
       "      <th>y</th>\n",
       "      <th>y_clean</th>\n",
       "    </tr>\n",
       "  </thead>\n",
       "  <tbody>\n",
       "    <tr>\n",
       "      <th>0</th>\n",
       "      <td>It's official: U.S. President Barack Obama wan...</td>\n",
       "      <td>official president barack obama want lawmaker ...</td>\n",
       "      <td>Syrian official: Obama climbed to the top of t...</td>\n",
       "      <td>syrian official obama climbed top tree doe kno...</td>\n",
       "    </tr>\n",
       "    <tr>\n",
       "      <th>1</th>\n",
       "      <td>(CNN) -- Usain Bolt rounded off the world cham...</td>\n",
       "      <td>usain bolt rounded world championship sunday c...</td>\n",
       "      <td>Usain Bolt wins third gold of world championsh...</td>\n",
       "      <td>usain bolt win third gold world championship a...</td>\n",
       "    </tr>\n",
       "    <tr>\n",
       "      <th>2</th>\n",
       "      <td>Kansas City, Missouri (CNN) -- The General Ser...</td>\n",
       "      <td>kansa city missouri general service administra...</td>\n",
       "      <td>The employee in agency's Kansas City office is...</td>\n",
       "      <td>employee agency kansa city office among hundre...</td>\n",
       "    </tr>\n",
       "    <tr>\n",
       "      <th>3</th>\n",
       "      <td>Los Angeles (CNN) -- A medical doctor in Vanco...</td>\n",
       "      <td>los angeles medical doctor vancouver british c...</td>\n",
       "      <td>NEW: A Canadian doctor says she was part of a ...</td>\n",
       "      <td>canadian doctor part team examining harry burk...</td>\n",
       "    </tr>\n",
       "    <tr>\n",
       "      <th>4</th>\n",
       "      <td>(CNN) -- Police arrested another teen Thursday...</td>\n",
       "      <td>police arrested another teen thursday sixth su...</td>\n",
       "      <td>Another arrest made in gang rape outside Calif...</td>\n",
       "      <td>another arrest made gang rape outside californ...</td>\n",
       "    </tr>\n",
       "  </tbody>\n",
       "</table>\n",
       "</div>"
      ],
      "text/plain": [
       "                                                text  \\\n",
       "0  It's official: U.S. President Barack Obama wan...   \n",
       "1  (CNN) -- Usain Bolt rounded off the world cham...   \n",
       "2  Kansas City, Missouri (CNN) -- The General Ser...   \n",
       "3  Los Angeles (CNN) -- A medical doctor in Vanco...   \n",
       "4  (CNN) -- Police arrested another teen Thursday...   \n",
       "\n",
       "                                          text_clean  \\\n",
       "0  official president barack obama want lawmaker ...   \n",
       "1  usain bolt rounded world championship sunday c...   \n",
       "2  kansa city missouri general service administra...   \n",
       "3  los angeles medical doctor vancouver british c...   \n",
       "4  police arrested another teen thursday sixth su...   \n",
       "\n",
       "                                                   y  \\\n",
       "0  Syrian official: Obama climbed to the top of t...   \n",
       "1  Usain Bolt wins third gold of world championsh...   \n",
       "2  The employee in agency's Kansas City office is...   \n",
       "3  NEW: A Canadian doctor says she was part of a ...   \n",
       "4  Another arrest made in gang rape outside Calif...   \n",
       "\n",
       "                                             y_clean  \n",
       "0  syrian official obama climbed top tree doe kno...  \n",
       "1  usain bolt win third gold world championship a...  \n",
       "2  employee agency kansa city office among hundre...  \n",
       "3  canadian doctor part team examining harry burk...  \n",
       "4  another arrest made gang rape outside californ...  "
      ]
     },
     "execution_count": 20,
     "metadata": {},
     "output_type": "execute_result"
    }
   ],
   "source": [
    "dtf = dtf[[\"text\",\"text_clean\",\"y\",\"y_clean\"]]\n",
    "dtf.head()"
   ]
  },
  {
   "cell_type": "markdown",
   "metadata": {},
   "source": [
    "### 2 - Preprocessing"
   ]
  },
  {
   "cell_type": "code",
   "execution_count": 21,
   "metadata": {},
   "outputs": [
    {
     "data": {
      "text/html": [
       "<div>\n",
       "<style scoped>\n",
       "    .dataframe tbody tr th:only-of-type {\n",
       "        vertical-align: middle;\n",
       "    }\n",
       "\n",
       "    .dataframe tbody tr th {\n",
       "        vertical-align: top;\n",
       "    }\n",
       "\n",
       "    .dataframe thead th {\n",
       "        text-align: right;\n",
       "    }\n",
       "</style>\n",
       "<table border=\"1\" class=\"dataframe\">\n",
       "  <thead>\n",
       "    <tr style=\"text-align: right;\">\n",
       "      <th></th>\n",
       "      <th>text</th>\n",
       "      <th>text_clean</th>\n",
       "      <th>y</th>\n",
       "      <th>y_clean</th>\n",
       "    </tr>\n",
       "  </thead>\n",
       "  <tbody>\n",
       "    <tr>\n",
       "      <th>0</th>\n",
       "      <td>It's official: U.S. President Barack Obama wan...</td>\n",
       "      <td>official president barack obama want lawmaker ...</td>\n",
       "      <td>Syrian official: Obama climbed to the top of t...</td>\n",
       "      <td>syrian official obama climbed top tree doe kno...</td>\n",
       "    </tr>\n",
       "    <tr>\n",
       "      <th>1</th>\n",
       "      <td>(CNN) -- Usain Bolt rounded off the world cham...</td>\n",
       "      <td>usain bolt rounded world championship sunday c...</td>\n",
       "      <td>Usain Bolt wins third gold of world championsh...</td>\n",
       "      <td>usain bolt win third gold world championship a...</td>\n",
       "    </tr>\n",
       "  </tbody>\n",
       "</table>\n",
       "</div>"
      ],
      "text/plain": [
       "                                                text  \\\n",
       "0  It's official: U.S. President Barack Obama wan...   \n",
       "1  (CNN) -- Usain Bolt rounded off the world cham...   \n",
       "\n",
       "                                          text_clean  \\\n",
       "0  official president barack obama want lawmaker ...   \n",
       "1  usain bolt rounded world championship sunday c...   \n",
       "\n",
       "                                                   y  \\\n",
       "0  Syrian official: Obama climbed to the top of t...   \n",
       "1  Usain Bolt wins third gold of world championsh...   \n",
       "\n",
       "                                             y_clean  \n",
       "0  syrian official obama climbed top tree doe kno...  \n",
       "1  usain bolt win third gold world championship a...  "
      ]
     },
     "execution_count": 21,
     "metadata": {},
     "output_type": "execute_result"
    }
   ],
   "source": [
    "# Partitioning\n",
    "dtf_train = dtf.iloc[i+1:]\n",
    "dtf_test = dtf.iloc[:i+1]\n",
    "dtf_test"
   ]
  },
  {
   "cell_type": "markdown",
   "metadata": {},
   "source": [
    "### 3 - Baseline (Extractive: TextRank)"
   ]
  },
  {
   "cell_type": "code",
   "execution_count": 34,
   "metadata": {},
   "outputs": [],
   "source": [
    "# Test (no Train)\n",
    "predicted = textrank(corpus=dtf_test[\"text\"], ratio=y_len/X_len)"
   ]
  },
  {
   "cell_type": "code",
   "execution_count": 35,
   "metadata": {},
   "outputs": [
    {
     "name": "stdout",
     "output_type": "stream",
     "text": [
      "rouge1: 0.18 | rouge2: 0.04 | rougeL: 0.04 --> avg rouge: 0.14\n"
     ]
    }
   ],
   "source": [
    "# Evaluate\n",
    "evaluate_summary(dtf_test[\"y\"][i], predicted[i])"
   ]
  },
  {
   "cell_type": "code",
   "execution_count": 36,
   "metadata": {},
   "outputs": [
    {
     "data": {
      "text/html": [
       "<strong>Real Summary</strong><br>Usain <span style=\"background-color:rgba(255,215,0,0.3);\">Bolt</span> wins third <span style=\"background-color:rgba(255,215,0,0.3);\">gold</span> of world championship . Anchors Jamaica to <span style=\"background-color:rgba(255,215,0,0.3);\">4x100m</span> <span style=\"background-color:rgba(255,215,0,0.3);\">relay</span> victory . Eighth <span style=\"background-color:rgba(255,215,0,0.3);\">gold</span> at <span style=\"background-color:rgba(255,215,0,0.3);\">the</span> championships for <span style=\"background-color:rgba(255,215,0,0.3);\">Bolt</span> . Jamaica double up <span style=\"background-color:rgba(255,215,0,0.3);\">in</span> women's <span style=\"background-color:rgba(255,215,0,0.3);\">4x100m</span> <span style=\"background-color:rgba(255,215,0,0.3);\">relay</span> .<br><br><strong>Predicted Summary</strong><br>Earlier, Jamaica's women underlined their dominance <span style=\"background-color:rgba(255,215,0,0.3);\">in</span> <span style=\"background-color:rgba(255,215,0,0.3);\">the</span> sprint events by winning <span style=\"background-color:rgba(255,215,0,0.3);\">the</span> <span style=\"background-color:rgba(255,215,0,0.3);\">4x100m</span> <span style=\"background-color:rgba(255,215,0,0.3);\">relay</span> <span style=\"background-color:rgba(255,215,0,0.3);\">gold,</span> anchored by Shelly-Ann Fraser-Pryce, who like <span style=\"background-color:rgba(255,215,0,0.3);\">Bolt</span> was completing a triple."
      ],
      "text/plain": [
       "<IPython.core.display.HTML object>"
      ]
     },
     "metadata": {},
     "output_type": "display_data"
    }
   ],
   "source": [
    "# Compare y_test and predicted\n",
    "match = display_string_matching(dtf_test[\"y\"][i], predicted[i], both=True, sentences=False, \n",
    "                                titles=[\"Real Summary\", \"Predicted Summary\"])\n",
    "\n",
    "from IPython.core.display import display, HTML\n",
    "display(HTML(match))"
   ]
  },
  {
   "cell_type": "code",
   "execution_count": 37,
   "metadata": {},
   "outputs": [
    {
     "data": {
      "text/html": [
       "<strong>Full Text</strong><br>(CNN) -- Usain Bolt rounded off the world championships Sunday by claiming his third gold in Moscow as he anchored Jamaica to victory in the men's 4x100m relay. The fastest man in the world charged clear of United States rival Justin Gatlin as the Jamaican quartet of Nesta Carter, Kemar Bailey-Cole, Nickel Ashmeade and Bolt won in 37.36 seconds. The U.S finished second in 37.56 seconds with Canada taking the bronze after Britain were disqualified for a faulty handover. The 26-year-old Bolt has now collected eight gold medals at world championships, equaling the record held by American trio Carl Lewis, Michael Johnson and Allyson Felix, not to mention the small matter of six Olympic titles. The relay triumph followed individual successes in the 100 and 200 meters in the Russian capital. \"I'm proud of myself and I'll continue to work to dominate for as long as possible,\" Bolt said, having previously expressed his intention to carry on until the 2016 Rio Olympics. Victory was never seriously in doubt once he got the baton safely in hand from Ashmeade, while Gatlin and the United States third leg runner Rakieem Salaam had problems. Gatlin strayed out of his lane as he struggled to get full control of their baton and was never able to get on terms with Bolt. <span style=\"background-color:rgba(255,215,0,0.3);\">Earlier, Jamaica's women underlined their dominance in the sprint events by winning the 4x100m relay gold, anchored by Shelly-Ann Fraser-Pryce, who like Bolt was completing a triple.</span>  Their quartet recorded a championship record of 41.29 seconds, well clear of France, who crossed the line in second place in 42.73 seconds. Defending champions, the United States, were initially back in the bronze medal position after losing time on the second handover between Alexandria Anderson and English Gardner, but promoted to silver when France were subsequently disqualified for an illegal handover. The British quartet, who were initially fourth, were promoted to the bronze which eluded their men's team. Fraser-Pryce, like Bolt aged 26, became the first woman to achieve three golds in the 100-200 and the relay. In other final action on the last day of the championships, France's Teddy Tamgho became the third man to leap over 18m in the triple jump, exceeding the mark by four centimeters to take gold. Germany's Christina Obergfoll finally took gold at global level in the women's javelin after five previous silvers, while Kenya's Asbel Kiprop easily won a tactical men's 1500m final. Kiprop's compatriot Eunice Jepkoech Sum was a surprise winner of the women's 800m. Bolt's final dash for golden glory brought the eight-day championship to a rousing finale, but while the hosts topped the medal table from the United States there was criticism of the poor attendances in the Luzhniki Stadium. There was further concern when their pole vault gold medalist Yelena Isinbayeva made controversial remarks in support of Russia's new laws, which make \"the propagandizing of non-traditional sexual relations among minors\" a criminal offense. She later attempted to clarify her comments, but there were renewed calls by gay rights groups for a boycott of the 2014 Winter Games in Sochi, the next major sports event in Russia.<br><br><strong>Predicted Summary</strong><br><span style=\"background-color:rgba(255,215,0,0.3);\">Earlier, Jamaica's women underlined their dominance in the sprint events by winning the 4x100m relay gold, anchored by Shelly-Ann Fraser-Pryce, who like Bolt was completing a triple.</span>"
      ],
      "text/plain": [
       "<IPython.core.display.HTML object>"
      ]
     },
     "metadata": {},
     "output_type": "display_data"
    }
   ],
   "source": [
    "# Explainability\n",
    "match = display_string_matching(dtf_test[\"text\"][i], predicted[i], both=True, sentences=True, \n",
    "                                titles=[\"Full Text\", \"Predicted Summary\"])\n",
    "\n",
    "from IPython.core.display import display, HTML\n",
    "display(HTML(match))"
   ]
  },
  {
   "cell_type": "markdown",
   "metadata": {},
   "source": [
    "### 4 - Model (Abstractive: Seq2Seq)"
   ]
  },
  {
   "cell_type": "markdown",
   "metadata": {},
   "source": [
    "###### Features Engineering"
   ]
  },
  {
   "cell_type": "code",
   "execution_count": 22,
   "metadata": {},
   "outputs": [
    {
     "name": "stdout",
     "output_type": "stream",
     "text": [
      "--- tokenization ---\n",
      "43004 words\n",
      "--- padding to sequence ---\n",
      "19998 sequences of length 400\n"
     ]
    },
    {
     "data": {
      "image/png": "[encoded data removed]",
      "text/plain": [
       "<Figure size 1080x360 with 1 Axes>"
      ]
     },
     "metadata": {
      "needs_background": "light"
     },
     "output_type": "display_data"
    }
   ],
   "source": [
    "# Create X_train for seq2seq (sequences of tokens)\n",
    "dic_seq = text2seq(corpus=dtf_train[\"text_clean\"], top=X_top_words, maxlen=X_len)\n",
    "\n",
    "X_train, X_tokenizer, X_dic_vocabulary = dic_seq[\"X\"], dic_seq[\"tokenizer\"], dic_seq[\"dic_vocabulary\"]"
   ]
  },
  {
   "cell_type": "code",
   "execution_count": 23,
   "metadata": {},
   "outputs": [
    {
     "data": {
      "text/plain": [
       "{'<PAD>': 0, 'one': 1, 'people': 2, 'year': 3, 'would': 4, 'time': 5}"
      ]
     },
     "execution_count": 23,
     "metadata": {},
     "output_type": "execute_result"
    }
   ],
   "source": [
    "dict(list(X_dic_vocabulary.items())[0:6])"
   ]
  },
  {
   "cell_type": "code",
   "execution_count": 24,
   "metadata": {},
   "outputs": [
    {
     "name": "stdout",
     "output_type": "stream",
     "text": [
      "--- tokenization ---\n",
      "--- padding to sequence ---\n",
      "2 sequences of length 400\n"
     ]
    },
    {
     "data": {
      "image/png": "[encoded data removed]",
      "text/plain": [
       "<Figure size 1080x360 with 1 Axes>"
      ]
     },
     "metadata": {
      "needs_background": "light"
     },
     "output_type": "display_data"
    }
   ],
   "source": [
    "# Preprocess X_test with the same tokenizer\n",
    "X_test = text2seq(corpus=dtf_test[\"text_clean\"], fitted_tokenizer=X_tokenizer, maxlen=X_train.shape[1])"
   ]
  },
  {
   "cell_type": "code",
   "execution_count": 25,
   "metadata": {},
   "outputs": [
    {
     "data": {
      "text/plain": [
       "'<START> usain bolt win third gold world championship anchor jamaica 4x100m relay victory eighth gold championship bolt jamaica double woman 4x100m relay <END>'"
      ]
     },
     "execution_count": 25,
     "metadata": {},
     "output_type": "execute_result"
    }
   ],
   "source": [
    "# Add START and END tokens to the summaries (y)\n",
    "special_tokens = (\"<START>\", \"<END>\")\n",
    "dtf_train[\"y_clean\"] = dtf_train['y_clean'].apply(lambda x: special_tokens[0]+' '+x+' '+special_tokens[1])\n",
    "dtf_test[\"y_clean\"] = dtf_test['y_clean'].apply(lambda x: special_tokens[0]+' '+x+' '+special_tokens[1])\n",
    "dtf_test[\"y_clean\"][i]"
   ]
  },
  {
   "cell_type": "code",
   "execution_count": 26,
   "metadata": {},
   "outputs": [
    {
     "name": "stdout",
     "output_type": "stream",
     "text": [
      "--- tokenization ---\n",
      "10248 words\n",
      "--- padding to sequence ---\n",
      "19998 sequences of length 40\n"
     ]
    },
    {
     "data": {
      "image/png": "[encoded data removed]",
      "text/plain": [
       "<Figure size 1080x360 with 1 Axes>"
      ]
     },
     "metadata": {
      "needs_background": "light"
     },
     "output_type": "display_data"
    }
   ],
   "source": [
    "# Tokenize the summaries (y_train)\n",
    "dic_seq = text2seq(corpus=dtf_train[\"y_clean\"], top=y_top_words, maxlen=y_len)\n",
    "\n",
    "y_train, y_tokenizer, y_dic_vocabulary = dic_seq[\"X\"], dic_seq[\"tokenizer\"], dic_seq[\"dic_vocabulary\"]"
   ]
  },
  {
   "cell_type": "code",
   "execution_count": 27,
   "metadata": {},
   "outputs": [
    {
     "data": {
      "text/plain": [
       "{'<PAD>': 0, '<START>': 1, '<END>': 2, 'year': 3, 'people': 4, 'one': 5}"
      ]
     },
     "execution_count": 27,
     "metadata": {},
     "output_type": "execute_result"
    }
   ],
   "source": [
    "dict(list(y_dic_vocabulary.items())[0:6])"
   ]
  },
  {
   "cell_type": "code",
   "execution_count": 28,
   "metadata": {},
   "outputs": [
    {
     "name": "stdout",
     "output_type": "stream",
     "text": [
      "--- tokenization ---\n",
      "--- padding to sequence ---\n",
      "2 sequences of length 40\n"
     ]
    },
    {
     "data": {
      "image/png": "[encoded data removed]",
      "text/plain": [
       "<Figure size 1080x360 with 1 Axes>"
      ]
     },
     "metadata": {
      "needs_background": "light"
     },
     "output_type": "display_data"
    }
   ],
   "source": [
    "# Preprocess y_test with the same tokenizer\n",
    "y_test = text2seq(corpus=dtf_test[\"y_clean\"], fitted_tokenizer=y_tokenizer, maxlen=y_train.shape[1])"
   ]
  },
  {
   "cell_type": "markdown",
   "metadata": {},
   "source": [
    "###### Create Embedding Weights"
   ]
  },
  {
   "cell_type": "code",
   "execution_count": 31,
   "metadata": {},
   "outputs": [],
   "source": [
    "# Load pre-trained Word2Vec\n",
    "nlp = gensim_api.load(\"glove-wiki-gigaword-300\")"
   ]
  },
  {
   "cell_type": "code",
   "execution_count": null,
   "metadata": {},
   "outputs": [],
   "source": [
    "# Or train Word2Vec from scratch\n",
    "#corpus =  dtf_train[\"text_clean\"].append(dtf_train[\"y_clean\"])\n",
    "#lst_corpus, nlp = fit_w2v(corpus=corpus, min_count=1, size=300, window=y_avg_len)"
   ]
  },
  {
   "cell_type": "code",
   "execution_count": 32,
   "metadata": {},
   "outputs": [
    {
     "data": {
      "text/plain": [
       "(300,)"
      ]
     },
     "execution_count": 32,
     "metadata": {},
     "output_type": "execute_result"
    }
   ],
   "source": [
    "# check nlp model\n",
    "word = \"home\"\n",
    "nlp[word].shape"
   ]
  },
  {
   "cell_type": "code",
   "execution_count": 33,
   "metadata": {},
   "outputs": [
    {
     "name": "stdout",
     "output_type": "stream",
     "text": [
      "vocabulary mapped to 43005 vectors of size 300\n"
     ]
    },
    {
     "data": {
      "text/plain": [
       "(43005, 300)"
      ]
     },
     "execution_count": 33,
     "metadata": {},
     "output_type": "execute_result"
    }
   ],
   "source": [
    "X_embeddings = vocabulary_embeddings(X_dic_vocabulary, nlp)\n",
    "X_embeddings.shape"
   ]
  },
  {
   "cell_type": "code",
   "execution_count": 34,
   "metadata": {},
   "outputs": [
    {
     "name": "stdout",
     "output_type": "stream",
     "text": [
      "vocabulary mapped to 10249 vectors of size 300\n"
     ]
    },
    {
     "data": {
      "text/plain": [
       "(10249, 300)"
      ]
     },
     "execution_count": 34,
     "metadata": {},
     "output_type": "execute_result"
    }
   ],
   "source": [
    "y_embeddings = vocabulary_embeddings(y_dic_vocabulary, nlp)\n",
    "y_embeddings.shape"
   ]
  },
  {
   "cell_type": "markdown",
   "metadata": {},
   "source": [
    "###### Model Design"
   ]
  },
  {
   "cell_type": "code",
   "execution_count": 36,
   "metadata": {},
   "outputs": [
    {
     "name": "stdout",
     "output_type": "stream",
     "text": [
      "Model: \"Seq2Seq\"\n",
      "__________________________________________________________________________________________________\n",
      "Layer (type)                    Output Shape         Param #     Connected to                     \n",
      "==================================================================================================\n",
      "x_in (InputLayer)               [(None, 400)]        0                                            \n",
      "__________________________________________________________________________________________________\n",
      "y_in (InputLayer)               [(None, None)]       0                                            \n",
      "__________________________________________________________________________________________________\n",
      "x_emb (Embedding)               (None, 400, 300)     12901200    x_in[0][0]                       \n",
      "__________________________________________________________________________________________________\n",
      "y_emb (Embedding)               (None, None, 300)    3074400     y_in[0][0]                       \n",
      "__________________________________________________________________________________________________\n",
      "x_lstm (LSTM)                   [(None, 400, 250), ( 551000      x_emb[0][0]                      \n",
      "__________________________________________________________________________________________________\n",
      "y_lstm (LSTM)                   [(None, None, 250),  551000      y_emb[0][0]                      \n",
      "                                                                 x_lstm[0][1]                     \n",
      "                                                                 x_lstm[0][2]                     \n",
      "__________________________________________________________________________________________________\n",
      "dense (TimeDistributed)         (None, None, 10248)  2572248     y_lstm[0][0]                     \n",
      "==================================================================================================\n",
      "Total params: 19,649,848\n",
      "Trainable params: 19,649,848\n",
      "Non-trainable params: 0\n",
      "__________________________________________________________________________________________________\n"
     ]
    }
   ],
   "source": [
    "# Basic Seq2Seq\n",
    "lstm_units = 250\n",
    "embeddings_size = 300\n",
    "\n",
    "##------------ ENCODER (embeddings + lstm) -----------------------------##\n",
    "x_in = layers.Input(name=\"x_in\", shape=(X_train.shape[1],))\n",
    "### embedding\n",
    "layer_x_emb = layers.Embedding(name=\"x_emb\", input_dim=len(X_dic_vocabulary), output_dim=embeddings_size, \n",
    "                               trainable=True)\n",
    "x_emb = layer_x_emb(x_in)\n",
    "### lstm \n",
    "layer_x_lstm = layers.LSTM(name=\"x_lstm\", units=lstm_units, dropout=0.4,  \n",
    "                           return_sequences=True, return_state=True)\n",
    "x_out, state_h, state_c = layer_x_lstm(x_emb)\n",
    "\n",
    "##------------ DECODER (embeddings + lstm + dense) ---------------------##\n",
    "y_in = layers.Input(name=\"y_in\", shape=(None,))\n",
    "### embedding\n",
    "layer_y_emb = layers.Embedding(name=\"y_emb\", input_dim=len(y_dic_vocabulary), output_dim=embeddings_size, \n",
    "                               trainable=True)\n",
    "y_emb = layer_y_emb(y_in)\n",
    "### lstm \n",
    "layer_y_lstm = layers.LSTM(name=\"y_lstm\", units=lstm_units, dropout=0.4,\n",
    "                           return_sequences=True, return_state=True)\n",
    "y_out, _, _ = layer_y_lstm(y_emb, initial_state=[state_h, state_c])\n",
    "### final dense layers\n",
    "layer_dense = layers.TimeDistributed(name=\"dense\", \n",
    "                                     layer=layers.Dense(units=len(y_dic_vocabulary), activation='softmax'))\n",
    "y_out = layer_dense(y_out)\n",
    "\n",
    "##---------------------------- COMPILE --------------------------------##\n",
    "model = models.Model(inputs=[x_in, y_in], outputs=y_out, name=\"Seq2Seq\")\n",
    "model.compile(optimizer='rmsprop', loss='sparse_categorical_crossentropy', metrics=['accuracy'])\n",
    "\n",
    "model.summary()"
   ]
  },
  {
   "cell_type": "code",
   "execution_count": 35,
   "metadata": {},
   "outputs": [
    {
     "name": "stdout",
     "output_type": "stream",
     "text": [
      "Model: \"Seq2Seq\"\n",
      "__________________________________________________________________________________________________\n",
      "Layer (type)                    Output Shape         Param #     Connected to                     \n",
      "==================================================================================================\n",
      "x_in (InputLayer)               [(None, 400)]        0                                            \n",
      "__________________________________________________________________________________________________\n",
      "x_emb (Embedding)               (None, 400, 300)     12901500    x_in[0][0]                       \n",
      "__________________________________________________________________________________________________\n",
      "x_lstm_1 (Bidirectional)        [(None, 400, 500), ( 1102000     x_emb[0][0]                      \n",
      "__________________________________________________________________________________________________\n",
      "x_lstm_2 (Bidirectional)        [(None, 400, 500), ( 1502000     x_lstm_1[0][0]                   \n",
      "__________________________________________________________________________________________________\n",
      "y_in (InputLayer)               [(None, None)]       0                                            \n",
      "__________________________________________________________________________________________________\n",
      "x_lstm_3 (Bidirectional)        [(None, 400, 500), ( 1502000     x_lstm_2[0][0]                   \n",
      "__________________________________________________________________________________________________\n",
      "y_emb (Embedding)               (None, None, 300)    3074700     y_in[0][0]                       \n",
      "__________________________________________________________________________________________________\n",
      "concatenate (Concatenate)       (None, 500)          0           x_lstm_3[0][1]                   \n",
      "                                                                 x_lstm_3[0][3]                   \n",
      "__________________________________________________________________________________________________\n",
      "concatenate_1 (Concatenate)     (None, 500)          0           x_lstm_3[0][2]                   \n",
      "                                                                 x_lstm_3[0][4]                   \n",
      "__________________________________________________________________________________________________\n",
      "y_lstm (LSTM)                   [(None, None, 500),  1602000     y_emb[0][0]                      \n",
      "                                                                 concatenate[0][0]                \n",
      "                                                                 concatenate_1[0][0]              \n",
      "__________________________________________________________________________________________________\n",
      "dense (TimeDistributed)         (None, None, 10248)  5134248     y_lstm[0][0]                     \n",
      "==================================================================================================\n",
      "Total params: 26,818,448\n",
      "Trainable params: 10,842,248\n",
      "Non-trainable params: 15,976,200\n",
      "__________________________________________________________________________________________________\n"
     ]
    }
   ],
   "source": [
    "# Advanced Seq2Seq\n",
    "lstm_units = 250\n",
    "\n",
    "##------------ ENCODER (pre-trained embeddings + 3 bi-lstm) ---------------##\n",
    "x_in = layers.Input(name=\"x_in\", shape=(X_train.shape[1],))\n",
    "### embedding\n",
    "layer_x_emb = layers.Embedding(name=\"x_emb\", input_dim=X_embeddings.shape[0], output_dim=X_embeddings.shape[1], \n",
    "                               weights=[X_embeddings], trainable=False)\n",
    "x_emb = layer_x_emb(x_in)\n",
    "### bi-lstm 1\n",
    "layer_x_bilstm = layers.Bidirectional(layers.LSTM(units=lstm_units, dropout=0.4, recurrent_dropout=0.4,\n",
    "                                                  return_sequences=True, return_state=True), \n",
    "                                      name=\"x_lstm_1\")\n",
    "x_out, _, _, _, _ = layer_x_bilstm(x_emb)\n",
    "### bi-lstm 2\n",
    "layer_x_bilstm = layers.Bidirectional(layers.LSTM(units=lstm_units, dropout=0.4, recurrent_dropout=0.4,\n",
    "                                                  return_sequences=True, return_state=True),\n",
    "                                      name=\"x_lstm_2\")\n",
    "x_out, _, _, _, _ = layer_x_bilstm(x_out)\n",
    "### bi-lstm 3 (here final states are collected)\n",
    "layer_x_bilstm = layers.Bidirectional(layers.LSTM(units=lstm_units, dropout=0.4, recurrent_dropout=0.4, \n",
    "                                                  return_sequences=True, return_state=True),\n",
    "                                      name=\"x_lstm_3\")\n",
    "x_out, forward_h, forward_c, backward_h, backward_c = layer_x_bilstm(x_out)\n",
    "state_h = layers.Concatenate()([forward_h, backward_h])\n",
    "state_c = layers.Concatenate()([forward_c, backward_c])\n",
    "\n",
    "##------------ DECODER (pre-trained embeddings + lstm + dense) ------------##\n",
    "y_in = layers.Input(name=\"y_in\", shape=(None,))\n",
    "### embedding\n",
    "layer_y_emb = layers.Embedding(name=\"y_emb\", input_dim=y_embeddings.shape[0], output_dim=y_embeddings.shape[1], \n",
    "                               weights=[y_embeddings], trainable=False)\n",
    "y_emb = layer_y_emb(y_in)\n",
    "### lstm\n",
    "layer_y_lstm = layers.LSTM(name=\"y_lstm\", units=lstm_units*2, dropout=0.2, recurrent_dropout=0.2,\n",
    "                           return_sequences=True, return_state=True)\n",
    "y_out, _, _ = layer_y_lstm(y_emb, initial_state=[state_h, state_c])\n",
    "### final dense layers\n",
    "layer_dense = layers.TimeDistributed(name=\"dense\", \n",
    "                                     layer=layers.Dense(units=len(y_dic_vocabulary), activation='softmax'))\n",
    "y_out = layer_dense(y_out)\n",
    "\n",
    "##---------------------------- COMPILE ------------------------------------##\n",
    "model = models.Model(inputs=[x_in, y_in], outputs=y_out, name=\"Seq2Seq\")\n",
    "model.compile(optimizer='rmsprop', loss='sparse_categorical_crossentropy')\n",
    "\n",
    "model.summary()"
   ]
  },
  {
   "cell_type": "markdown",
   "metadata": {},
   "source": [
    "###### Train"
   ]
  },
  {
   "cell_type": "code",
   "execution_count": 37,
   "metadata": {
    "scrolled": false
   },
   "outputs": [
    {
     "name": "stdout",
     "output_type": "stream",
     "text": [
      "Epoch 1/100\n",
      "219/219 [==============================] - 355s 2s/step - loss: 5.4287 - accuracy: 0.3696 - val_loss: 5.2587 - val_accuracy: 0.3759\n",
      "Epoch 2/100\n",
      "219/219 [==============================] - 355s 2s/step - loss: 5.1787 - accuracy: 0.3801 - val_loss: 5.1966 - val_accuracy: 0.3771\n",
      "Epoch 3/100\n",
      "219/219 [==============================] - 357s 2s/step - loss: 5.0799 - accuracy: 0.3826 - val_loss: 5.1201 - val_accuracy: 0.3802\n",
      "Epoch 4/100\n",
      "219/219 [==============================] - 809s 4s/step - loss: 4.9903 - accuracy: 0.3858 - val_loss: 5.0544 - val_accuracy: 0.3821\n",
      "Epoch 5/100\n",
      "219/219 [==============================] - 358s 2s/step - loss: 4.8997 - accuracy: 0.3883 - val_loss: 4.9996 - val_accuracy: 0.3839\n",
      "Epoch 6/100\n",
      "219/219 [==============================] - 356s 2s/step - loss: 4.8151 - accuracy: 0.3907 - val_loss: 4.9544 - val_accuracy: 0.3858\n",
      "Epoch 7/100\n",
      "219/219 [==============================] - 355s 2s/step - loss: 4.7357 - accuracy: 0.3931 - val_loss: 4.9188 - val_accuracy: 0.3876\n",
      "Epoch 8/100\n",
      "219/219 [==============================] - 359s 2s/step - loss: 4.6615 - accuracy: 0.3962 - val_loss: 4.8885 - val_accuracy: 0.3899\n",
      "Epoch 9/100\n",
      "219/219 [==============================] - 358s 2s/step - loss: 4.5905 - accuracy: 0.3987 - val_loss: 4.8642 - val_accuracy: 0.3915\n",
      "Epoch 10/100\n",
      "219/219 [==============================] - 356s 2s/step - loss: 4.5218 - accuracy: 0.4016 - val_loss: 4.8409 - val_accuracy: 0.3929\n",
      "Epoch 11/100\n",
      "219/219 [==============================] - 355s 2s/step - loss: 4.4556 - accuracy: 0.4044 - val_loss: 4.8268 - val_accuracy: 0.3939\n",
      "Epoch 12/100\n",
      "219/219 [==============================] - 356s 2s/step - loss: 4.3915 - accuracy: 0.4069 - val_loss: 4.8139 - val_accuracy: 0.3949\n",
      "Epoch 13/100\n",
      "219/219 [==============================] - 363s 2s/step - loss: 4.3298 - accuracy: 0.4095 - val_loss: 4.8008 - val_accuracy: 0.3961\n",
      "Epoch 14/100\n",
      "219/219 [==============================] - 409s 2s/step - loss: 4.2719 - accuracy: 0.4120 - val_loss: 4.7971 - val_accuracy: 0.3971\n",
      "Epoch 15/100\n",
      "219/219 [==============================] - 416s 2s/step - loss: 4.2165 - accuracy: 0.4143 - val_loss: 4.7947 - val_accuracy: 0.3971\n",
      "Epoch 16/100\n",
      "219/219 [==============================] - 422s 2s/step - loss: 4.1637 - accuracy: 0.4170 - val_loss: 4.7921 - val_accuracy: 0.3977\n",
      "Epoch 17/100\n",
      "219/219 [==============================] - 428s 2s/step - loss: 4.1127 - accuracy: 0.4190 - val_loss: 4.7951 - val_accuracy: 0.3981\n",
      "Epoch 18/100\n",
      "219/219 [==============================] - 430s 2s/step - loss: 4.0624 - accuracy: 0.4215 - val_loss: 4.7964 - val_accuracy: 0.3978\n",
      "Epoch 00018: early stopping\n"
     ]
    },
    {
     "data": {
      "image/png": "[encoded data removed]",
      "text/plain": [
       "<Figure size 1080x216 with 4 Axes>"
      ]
     },
     "metadata": {
      "needs_background": "light"
     },
     "output_type": "display_data"
    }
   ],
   "source": [
    "# This takes a while\n",
    "model = fit_seq2seq(X_train, y_train, model, build_encoder_decoder=False, \n",
    "                    epochs=100, batch_size=64, verbose=1)\n",
    "#model, encoder_model, decoder_model = fit_seq2seq(X_train, y_train, X_embeddings, y_embeddings, model, \n",
    "#                                                  build_encoder_decoder=True, epochs=100, batch_size=64)"
   ]
  },
  {
   "cell_type": "markdown",
   "metadata": {},
   "source": [
    "###### Test"
   ]
  },
  {
   "cell_type": "code",
   "execution_count": 38,
   "metadata": {},
   "outputs": [
    {
     "name": "stdout",
     "output_type": "stream",
     "text": [
      "Model: \"Prediction_Encoder\"\n",
      "_________________________________________________________________\n",
      "Layer (type)                 Output Shape              Param #   \n",
      "=================================================================\n",
      "x_in (InputLayer)            [(None, 400)]             0         \n",
      "_________________________________________________________________\n",
      "x_emb (Embedding)            (None, 400, 300)          12901200  \n",
      "_________________________________________________________________\n",
      "x_lstm (LSTM)                [(None, 400, 250), (None, 551000    \n",
      "=================================================================\n",
      "Total params: 13,452,200\n",
      "Trainable params: 13,452,200\n",
      "Non-trainable params: 0\n",
      "_________________________________________________________________\n"
     ]
    }
   ],
   "source": [
    "# Prediction Encoder\n",
    "encoder_model = models.Model(inputs=x_in, outputs=[x_out, state_h, state_c], name=\"Prediction_Encoder\")\n",
    "encoder_model.summary()"
   ]
  },
  {
   "cell_type": "code",
   "execution_count": 39,
   "metadata": {},
   "outputs": [
    {
     "name": "stdout",
     "output_type": "stream",
     "text": [
      "Model: \"Prediction_Decoder\"\n",
      "__________________________________________________________________________________________________\n",
      "Layer (type)                    Output Shape         Param #     Connected to                     \n",
      "==================================================================================================\n",
      "y_in (InputLayer)               [(None, None)]       0                                            \n",
      "__________________________________________________________________________________________________\n",
      "y_emb (Embedding)               (None, None, 300)    3074400     y_in[0][0]                       \n",
      "__________________________________________________________________________________________________\n",
      "input_2 (InputLayer)            [(None, 250)]        0                                            \n",
      "__________________________________________________________________________________________________\n",
      "input_3 (InputLayer)            [(None, 250)]        0                                            \n",
      "__________________________________________________________________________________________________\n",
      "y_lstm (LSTM)                   [(None, None, 250),  551000      y_emb[1][0]                      \n",
      "                                                                 input_2[0][0]                    \n",
      "                                                                 input_3[0][0]                    \n",
      "__________________________________________________________________________________________________\n",
      "input_1 (InputLayer)            [(None, 400, 250)]   0                                            \n",
      "__________________________________________________________________________________________________\n",
      "dense (TimeDistributed)         (None, None, 10248)  2572248     y_lstm[1][0]                     \n",
      "==================================================================================================\n",
      "Total params: 6,197,648\n",
      "Trainable params: 6,197,648\n",
      "Non-trainable params: 0\n",
      "__________________________________________________________________________________________________\n"
     ]
    }
   ],
   "source": [
    "# Prediction Decoder\n",
    "## double the lstm units if you used bidirectional lstm\n",
    "lstm_units = lstm_units*2 if any(\"Bidirectional\" in str(layer) for layer in model.layers) else lstm_units\n",
    "\n",
    "## states of the previous time step\n",
    "x_out2 = layers.Input(shape=(X_train.shape[1], lstm_units))\n",
    "state_h, state_c = layers.Input(shape=(lstm_units,)), layers.Input(shape=(lstm_units,))\n",
    "\n",
    "## decoder embeddings\n",
    "y_emb2 = layer_y_emb(y_in)\n",
    "\n",
    "## lstm to predict the next word\n",
    "y_out2, new_state_h, new_state_c = layer_y_lstm(y_emb2, initial_state=[state_h, state_c])\n",
    "\n",
    "## softmax to generate probability distribution over the target vocabulary\n",
    "probs = layer_dense(y_out2)\n",
    "\n",
    "## compile\n",
    "decoder_model = models.Model(inputs=[y_in, x_out2, state_h, state_c], \n",
    "                             outputs=[probs, new_state_h, new_state_c],\n",
    "                             name=\"Prediction_Decoder\")\n",
    "decoder_model.summary()"
   ]
  },
  {
   "cell_type": "code",
   "execution_count": 40,
   "metadata": {},
   "outputs": [],
   "source": [
    "predicted = predict_seq2seq(X_test, encoder_model, decoder_model, y_tokenizer, special_tokens)"
   ]
  },
  {
   "cell_type": "code",
   "execution_count": 41,
   "metadata": {},
   "outputs": [
    {
     "name": "stdout",
     "output_type": "stream",
     "text": [
      "rouge1: 0.04 | rouge2: 0.0 | rougeL: 0.0 --> avg rouge: 0.03\n"
     ]
    }
   ],
   "source": [
    "# Evaluate\n",
    "evaluate_summary(dtf_test[\"y_clean\"][i], predicted[i])"
   ]
  },
  {
   "cell_type": "code",
   "execution_count": 42,
   "metadata": {},
   "outputs": [
    {
     "data": {
      "text/html": [
       "<strong>Real Summary</strong><br><START> usain bolt <span style=\"background-color:rgba(255,215,0,0.3);\">win</span> third gold world championship anchor jamaica 4x100m relay victory eighth gold championship bolt jamaica double woman 4x100m relay <END><br><br><strong>Predicted Summary</strong><br>manchester united state liverpool beat france 21 draw cup 21 draw score goal goal goal <span style=\"background-color:rgba(255,215,0,0.3);\">win</span> first goal <span style=\"background-color:rgba(255,215,0,0.3);\">win</span> first time since 22 minute arsenal 21 <span style=\"background-color:rgba(255,215,0,0.3);\">win</span>"
      ],
      "text/plain": [
       "<IPython.core.display.HTML object>"
      ]
     },
     "metadata": {},
     "output_type": "display_data"
    }
   ],
   "source": [
    "# Compare y_test and predicted\n",
    "match = display_string_matching(dtf_test[\"y_clean\"][i], predicted[i], both=True, sentences=False, \n",
    "                                titles=[\"Real Summary\", \"Predicted Summary\"])\n",
    "\n",
    "from IPython.core.display import display, HTML\n",
    "display(HTML(match))"
   ]
  },
  {
   "cell_type": "code",
   "execution_count": 43,
   "metadata": {},
   "outputs": [
    {
     "data": {
      "text/html": [
       "<strong>Full Text</strong><br>usain bolt rounded world championship sunday claiming third gold moscow anchored jamaica victory men 4x100m relay fastest man world charged clear <span style=\"background-color:rgba(255,215,0,0.3);\">united</span> <span style=\"background-color:rgba(255,215,0,0.3);\">state</span> rival justin gatlin jamaican quartet nesta carter kemar baileycole nickel ashmeade bolt 3736 second finished second 3756 second canada taking bronze britain disqualified faulty handover 26yearold bolt collected eight gold medal world championship equaling record held american trio carl lewis michael johnson allyson felix mention small matter six olympic title relay triumph followed individual success 100 200 meter russian capital I proud ill continue work dominate long possible bolt previously expressed intention carry 2016 rio olympics victory never seriously doubt got baton safely hand ashmeade gatlin <span style=\"background-color:rgba(255,215,0,0.3);\">united</span> <span style=\"background-color:rgba(255,215,0,0.3);\">state</span> third leg runner rakieem salaam problem gatlin strayed lane struggled get full control baton never able get term bolt earlier jamaica woman underlined dominance sprint event winning 4x100m relay gold anchored shellyann fraserpryce like bolt completing triple quartet recorded championship record 4129 second well clear <span style=\"background-color:rgba(255,215,0,0.3);\">france</span> crossed line second place 4273 second defending champion <span style=\"background-color:rgba(255,215,0,0.3);\">united</span> <span style=\"background-color:rgba(255,215,0,0.3);\">state</span> initially back bronze medal position losing <span style=\"background-color:rgba(255,215,0,0.3);\">time</span> second handover alexandria anderson english gardner promoted silver <span style=\"background-color:rgba(255,215,0,0.3);\">france</span> subsequently disqualified illegal handover british quartet initially fourth promoted bronze eluded men team fraserpryce like bolt aged 26 became <span style=\"background-color:rgba(255,215,0,0.3);\">first</span> woman achieve three gold 100200 relay final action last day championship <span style=\"background-color:rgba(255,215,0,0.3);\">france</span> teddy tamgho became third man leap 18m triple jump exceeding mark four centimeter take gold germany christina obergfoll finally took gold global level woman javelin five previous silver kenya asbel kiprop easily tactical men 1500m final kiprops compatriot eunice jepkoech sum surprise winner woman 800m bolt final dash golden glory brought eightday championship rousing finale host topped medal table <span style=\"background-color:rgba(255,215,0,0.3);\">united</span> <span style=\"background-color:rgba(255,215,0,0.3);\">state</span> criticism poor attendance luzhniki stadium concern pole vault gold medalist yelena isinbayeva made controversial remark support russia law make propagandizing nontraditional sexual relation among minor criminal offense later attempted clarify comment renewed call gay right group boycott 2014 winter game sochi next major sport event russia<br><br><strong>Predicted Summary</strong><br>manchester <span style=\"background-color:rgba(255,215,0,0.3);\">united</span> <span style=\"background-color:rgba(255,215,0,0.3);\">state</span> liverpool beat <span style=\"background-color:rgba(255,215,0,0.3);\">france</span> 21 draw cup 21 draw score goal goal goal win <span style=\"background-color:rgba(255,215,0,0.3);\">first</span> goal win <span style=\"background-color:rgba(255,215,0,0.3);\">first</span> <span style=\"background-color:rgba(255,215,0,0.3);\">time</span> since 22 minute arsenal 21 win"
      ],
      "text/plain": [
       "<IPython.core.display.HTML object>"
      ]
     },
     "metadata": {},
     "output_type": "display_data"
    }
   ],
   "source": [
    "# Explainability\n",
    "match = display_string_matching(dtf_test[\"text_clean\"][i], predicted[i], both=True, sentences=False, \n",
    "                                titles=[\"Full Text\", \"Predicted Summary\"])\n",
    "\n",
    "from IPython.core.display import display, HTML\n",
    "display(HTML(match))"
   ]
  },
  {
   "cell_type": "markdown",
   "metadata": {},
   "source": [
    "### 5 - Model (Abstractive: Language model)"
   ]
  },
  {
   "cell_type": "code",
   "execution_count": 74,
   "metadata": {},
   "outputs": [],
   "source": [
    "# Test (no Train)\n",
    "predicted = bart(corpus=dtf_test[\"text\"], max_len=y_len)"
   ]
  },
  {
   "cell_type": "code",
   "execution_count": 75,
   "metadata": {},
   "outputs": [
    {
     "name": "stdout",
     "output_type": "stream",
     "text": [
      "rouge1: 0.57 | rouge2: 0.26 | rougeL: 0.26 --> avg rouge: 0.49\n"
     ]
    }
   ],
   "source": [
    "# Evaluate\n",
    "evaluate_summary(dtf_test[\"y\"][i], predicted[i])"
   ]
  },
  {
   "cell_type": "code",
   "execution_count": 76,
   "metadata": {},
   "outputs": [
    {
     "data": {
      "text/html": [
       "<strong>Real Summary</strong><br><span style=\"background-color:rgba(255,215,0,0.3);\">Usain</span> <span style=\"background-color:rgba(255,215,0,0.3);\">Bolt</span> <span style=\"background-color:rgba(255,215,0,0.3);\">wins</span> <span style=\"background-color:rgba(255,215,0,0.3);\">third</span> <span style=\"background-color:rgba(255,215,0,0.3);\">gold</span> of <span style=\"background-color:rgba(255,215,0,0.3);\">world</span> championship . Anchors <span style=\"background-color:rgba(255,215,0,0.3);\">Jamaica</span> <span style=\"background-color:rgba(255,215,0,0.3);\">to</span> <span style=\"background-color:rgba(255,215,0,0.3);\">4x100m</span> relay <span style=\"background-color:rgba(255,215,0,0.3);\">victory</span> . Eighth <span style=\"background-color:rgba(255,215,0,0.3);\">gold</span> <span style=\"background-color:rgba(255,215,0,0.3);\">at</span> <span style=\"background-color:rgba(255,215,0,0.3);\">the</span> <span style=\"background-color:rgba(255,215,0,0.3);\">championships</span> for <span style=\"background-color:rgba(255,215,0,0.3);\">Bolt</span> . <span style=\"background-color:rgba(255,215,0,0.3);\">Jamaica</span> double up <span style=\"background-color:rgba(255,215,0,0.3);\">in</span> women's <span style=\"background-color:rgba(255,215,0,0.3);\">4x100m</span> relay .<br><br><strong>Predicted Summary</strong><br><span style=\"background-color:rgba(255,215,0,0.3);\">Usain</span> <span style=\"background-color:rgba(255,215,0,0.3);\">Bolt</span> <span style=\"background-color:rgba(255,215,0,0.3);\">wins</span> his <span style=\"background-color:rgba(255,215,0,0.3);\">third</span> <span style=\"background-color:rgba(255,215,0,0.3);\">gold</span> <span style=\"background-color:rgba(255,215,0,0.3);\">at</span> <span style=\"background-color:rgba(255,215,0,0.3);\">the</span> <span style=\"background-color:rgba(255,215,0,0.3);\">world</span> <span style=\"background-color:rgba(255,215,0,0.3);\">championships</span> <span style=\"background-color:rgba(255,215,0,0.3);\">in</span> Moscow. <span style=\"background-color:rgba(255,215,0,0.3);\">Bolt</span> anchored <span style=\"background-color:rgba(255,215,0,0.3);\">Jamaica</span> <span style=\"background-color:rgba(255,215,0,0.3);\">to</span> <span style=\"background-color:rgba(255,215,0,0.3);\">victory</span> <span style=\"background-color:rgba(255,215,0,0.3);\">in</span> <span style=\"background-color:rgba(255,215,0,0.3);\">the</span> men's <span style=\"background-color:rgba(255,215,0,0.3);\">4x100m,</span>"
      ],
      "text/plain": [
       "<IPython.core.display.HTML object>"
      ]
     },
     "metadata": {},
     "output_type": "display_data"
    }
   ],
   "source": [
    "# Compare y_test and predicted\n",
    "match = display_string_matching(dtf_test[\"y\"][i], predicted[i], both=True, sentences=False, \n",
    "                                titles=[\"Real Summary\", \"Predicted Summary\"])\n",
    "\n",
    "from IPython.core.display import display, HTML\n",
    "display(HTML(match))"
   ]
  },
  {
   "cell_type": "code",
   "execution_count": 77,
   "metadata": {},
   "outputs": [
    {
     "data": {
      "text/html": [
       "<strong>Full Text</strong><br>(CNN) -- Usain Bolt rounded off <span style=\"background-color:rgba(255,215,0,0.3);\"> the world championships </span> Sunday by claiming his third gold in Moscow as he <span style=\"background-color:rgba(255,215,0,0.3);\"> anchored Jamaica to victory in the men's 4x100m</span>  relay. The fastest man in the world charged clear of United States rival Justin Gatlin as the Jamaican quartet of Nesta Carter, Kemar Bailey-Cole, Nickel Ashmeade and Bolt won in 37.36 seconds. The U.S finished second in 37.56 seconds with Canada taking the bronze after Britain were disqualified for a faulty handover. The 26-year-old Bolt has now collected eight gold medals at world championships, equaling the record held by American trio Carl Lewis, Michael Johnson and Allyson Felix, not to mention the small matter of six Olympic titles. The relay triumph followed individual successes in the 100 and 200 meters in the Russian capital. \"I'm proud of myself and I'll continue to work to dominate for as long as possible,\" Bolt said, having previously expressed his intention to carry on until the 2016 Rio Olympics. Victory was never seriously in doubt once he got the baton safely in hand from Ashmeade, while Gatlin and the United States third leg runner Rakieem Salaam had problems. Gatlin strayed out of his lane as he struggled to get full control of their baton and was never able to get on terms with Bolt. Earlier, Jamaica's women underlined their dominance in the sprint events by winning the 4x100m relay gold, anchored by Shelly-Ann Fraser-Pryce, who like Bolt was completing a triple. Their quartet recorded a championship record of 41.29 seconds, well clear of France, who crossed the line in second place in 42.73 seconds. Defending champions, the United States, were initially back in the bronze medal position after losing time on the second handover between Alexandria Anderson and English Gardner, but promoted to silver when France were subsequently disqualified for an illegal handover. The British quartet, who were initially fourth, were promoted to the bronze which eluded their men's team. Fraser-Pryce, like Bolt aged 26, became the first woman to achieve three golds in the 100-200 and the relay. In other final action on the last day of the championships, France's Teddy Tamgho became the third man to leap over 18m in the triple jump, exceeding the mark by four centimeters to take gold. Germany's Christina Obergfoll finally took gold at global level in the women's javelin after five previous silvers, while Kenya's Asbel Kiprop easily won a tactical men's 1500m final. Kiprop's compatriot Eunice Jepkoech Sum was a surprise winner of the women's 800m. Bolt's final dash for golden glory brought the eight-day championship to a rousing finale, but while the hosts topped the medal table from the United States there was criticism of the poor attendances in the Luzhniki Stadium. There was further concern when their pole vault gold medalist Yelena Isinbayeva made controversial remarks in support of Russia's new laws, which make \"the propagandizing of non-traditional sexual relations among minors\" a criminal offense. She later attempted to clarify her comments, but there were renewed calls by gay rights groups for a boycott of the 2014 Winter Games in Sochi, the next major sports event in Russia.<br><br><strong>Predicted Summary</strong><br> Usain Bolt wins his third gold at <span style=\"background-color:rgba(255,215,0,0.3);\"> the world championships </span> in Moscow. Bolt <span style=\"background-color:rgba(255,215,0,0.3);\"> anchored Jamaica to victory in the men's 4x100m</span> ,"
      ],
      "text/plain": [
       "<IPython.core.display.HTML object>"
      ]
     },
     "metadata": {},
     "output_type": "display_data"
    }
   ],
   "source": [
    "# Explainability\n",
    "match = display_string_matching(dtf_test[\"text\"][i], predicted[i], both=True, sentences=True, \n",
    "                                titles=[\"Full Text\", \"Predicted Summary\"])\n",
    "\n",
    "from IPython.core.display import display, HTML\n",
    "display(HTML(match))"
   ]
  }
 ],
 "metadata": {
  "kernelspec": {
   "display_name": "Python 3",
   "language": "python",
   "name": "python3"
  },
  "language_info": {
   "codemirror_mode": {
    "name": "ipython",
    "version": 3
   },
   "file_extension": ".py",
   "mimetype": "text/x-python",
   "name": "python",
   "nbconvert_exporter": "python",
   "pygments_lexer": "ipython3",
   "version": "3.6.12"
  }
 },
 "nbformat": 4,
 "nbformat_minor": 4
}
